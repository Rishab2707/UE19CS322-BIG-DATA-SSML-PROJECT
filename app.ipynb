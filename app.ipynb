{
 "cells": [
  {
   "cell_type": "code",
   "execution_count": 38,
   "id": "38998017",
   "metadata": {},
   "outputs": [],
   "source": [
    "import findspark\n",
    "findspark.init()\n",
    "\n",
    "from pyspark.sql import SparkSession\n",
    "from pyspark import SparkConf, SparkContext\n",
    "from pyspark.streaming import StreamingContext\n",
    "from pyspark.sql.functions import *\n",
    "from pyspark.sql.functions import split,col\n",
    "from pyspark.sql.types import Row\n",
    "from pyspark.sql.types import *\n",
    "import json\n",
    "from pyspark.sql.context import SQLContext\n",
    "from sklearn.feature_extraction.text import HashingVectorizer\n",
    "from sklearn.linear_model import PassiveAggressiveClassifier\n",
    "from sklearn.linear_model import Perceptron, SGDClassifier\n",
    "from sklearn.naive_bayes import MultinomialNB,BernoulliNB"
   ]
  },
  {
   "cell_type": "code",
   "execution_count": 2,
   "id": "3cec93e0",
   "metadata": {},
   "outputs": [
    {
     "name": "stderr",
     "output_type": "stream",
     "text": [
      "21/12/05 18:06:26 WARN Utils: Your hostname, pes1ug19cs384-VirtualBox resolves to a loopback address: 127.0.1.1; using 10.0.2.15 instead (on interface enp0s3)\n",
      "21/12/05 18:06:26 WARN Utils: Set SPARK_LOCAL_IP if you need to bind to another address\n",
      "21/12/05 18:06:26 WARN NativeCodeLoader: Unable to load native-hadoop library for your platform... using builtin-java classes where applicable\n",
      "Using Spark's default log4j profile: org/apache/spark/log4j-defaults.properties\n",
      "Setting default log level to \"WARN\".\n",
      "To adjust logging level use sc.setLogLevel(newLevel). For SparkR, use setLogLevel(newLevel).\n",
      "21/12/05 18:06:30 WARN TextSocketSourceProvider: The socket source should not be used for production applications! It does not support recovery.\n"
     ]
    },
    {
     "name": "stdout",
     "output_type": "stream",
     "text": [
      "root\n",
      " |-- value: string (nullable = true)\n",
      "\n",
      "root\n",
      " |-- key: string (nullable = false)\n",
      " |-- feature0: string (nullable = true)\n",
      " |-- feature1: string (nullable = true)\n",
      "\n"
     ]
    }
   ],
   "source": [
    "spark = SparkSession.builder.appName(\"Tweet analysis\").getOrCreate()\n",
    "\n",
    "text_schema = StructType([StructField('text', StringType(), True)])\n",
    "json_schema = MapType(StringType(), StringType())\n",
    "\n",
    "tweet_df= spark \\\n",
    "    .readStream \\\n",
    "    .format(\"socket\")\\\n",
    "    .option(\"host\", \"localhost\") \\\n",
    "    .option(\"port\",6100) \\\n",
    "    .load()\n",
    "tweet_df.printSchema()\n",
    "tweet_df1= tweet_df.selectExpr(\"CAST(value AS STRING)\")\n",
    "\n",
    "tweetdf2=tweet_df1.withColumn('json',from_json(col('value'),json_schema)).select(explode(col('json')))\n",
    "tweetdf3=tweetdf2.withColumn('value',from_json(col('value'),json_schema)).withColumn('feature0',col('value.feature0')).withColumn('feature1',col('value.feature1')).drop('value')\n",
    "tweetdf3.printSchema()"
   ]
  },
  {
   "cell_type": "code",
   "execution_count": 3,
   "id": "2be070a5",
   "metadata": {},
   "outputs": [],
   "source": [
    "def pre_process(tdf):\n",
    "    tdf = tdf.na.replace('', None)\n",
    "    tdf = tdf.na.drop()       \n",
    "    tdf = tdf.withColumn('feature1', regexp_replace('feature1',r'@\\w+',''))\n",
    "    tdf = tdf.withColumn('feature1', regexp_replace('feature1','[^A-Za-z0-9\\s]',''))\n",
    "    tdf = tdf.withColumn('feature1', regexp_replace('feature1',r'http\\S+',''))\n",
    "    return tdf\n",
    "\n",
    "df = pre_process(tweetdf3)"
   ]
  },
  {
   "cell_type": "code",
   "execution_count": 4,
   "id": "ca51e224",
   "metadata": {},
   "outputs": [],
   "source": []
  },
  {
   "cell_type": "code",
   "execution_count": 39,
   "id": "cb86fb67",
   "metadata": {
    "scrolled": true
   },
   "outputs": [
    {
     "name": "stderr",
     "output_type": "stream",
     "text": [
      "21/12/05 19:15:16 WARN StreamingQueryManager: Temporary checkpoint location created which is deleted normally when the query didn't fail: /tmp/temporary-e7cde65b-fbc4-49db-93bc-21f37e06127c. If it's required to delete it under any circumstances, please set spark.sql.streaming.forceDeleteTempCheckpointLocation to true. Important to know deleting temp checkpoint folder is best effort.\n"
     ]
    },
    {
     "data": {
      "text/plain": [
       "<bound method StreamingQuery.awaitTermination of <pyspark.sql.streaming.StreamingQuery object at 0x7fadd5544670>>"
      ]
     },
     "execution_count": 39,
     "metadata": {},
     "output_type": "execute_result"
    }
   ],
   "source": [
    "''' tokenizer = Tokenizer(inputCol=\"feature1\", outputCol=\"words\") \n",
    "hashtf = HashingTF(numFeatures=2**16, inputCol=\"words\", outputCol='tf') \n",
    "idf = IDF(inputCol='tf', outputCol=\"features\", minDocFreq=50)\n",
    "label_stringIdx = StringIndexer(inputCol = \"feature0\", outputCol = \"label\") \n",
    "pipeline = Pipeline(stages=[tokenizer, hashtf, idf, label_stringIdx])\n",
    "\n",
    "pipelineFit = pipeline.fit(df) ddf = pipelineFit.transform(df)\n",
    "ddf.printSchema()\n",
    "\n",
    "LR = LogisticRegression(featuresCol = 'feature1', labelCol = 'feature0', maxIter=15) \n",
    "LR_model = LR.fit(df) trainingSummary = LR_model.summary \n",
    "tk = Tokenizer(inputCol=\"feature1\", outputCol=\"words\")\n",
    "    b = tk.transform(b) \n",
    "    hf = HashingTF(numFeatures=2, inputCol=\"words\", outputCol='tf') \n",
    "    b = hf.transform(b)\n",
    "import sklearn.feature_extraction.text.HashingVectorizer''' \n",
    "\n",
    "partial_fit_classifiers = {\n",
    "    'Perceptron': Perceptron(),\n",
    "    'Passive-Aggressive': PassiveAggressiveClassifier(),\n",
    "}\n",
    "\n",
    "num=0\n",
    "model1 = BernoulliNB()\n",
    "model2 = Perceptron(alpha=0.4)\n",
    "model3 = SGDClassifier()\n",
    "def mab(b):\n",
    "    global num\n",
    "    num+=1\n",
    "    arr = [row['feature1'] for row in b.collect()]\n",
    "    tar = [row['feature0'] for row in b.collect()]\n",
    "    vectorizer = HashingVectorizer( n_features=2**15)\n",
    "    x=None\n",
    "    if arr:\n",
    "        x = vectorizer.transform(arr)\n",
    "        if num<=10:\n",
    "            model1.partial_fit(x, tar,classes=['0','4'])\n",
    "            model2.partial_fit(x,tar,classes=['0','4'])\n",
    "            model3.partial_fit(x,tar,classes=['0','4'])\n",
    "        else:\n",
    "            acc1 = model1.score(x,tar)\n",
    "            acc2 = model2.score(x,tar)\n",
    "            acc3 = model3.score(x,tar)\n",
    "            print((acc1*100, acc2*100, acc3*100))\n",
    "\n",
    "def p(b,id):    \n",
    "    mab(b)\n",
    "\n",
    "query = df.writeStream.foreachBatch(p).start()\n",
    "query.awaitTermination"
   ]
  },
  {
   "cell_type": "code",
   "execution_count": null,
   "id": "982b4039",
   "metadata": {},
   "outputs": [],
   "source": []
  },
  {
   "cell_type": "code",
   "execution_count": 11,
   "id": "af106b68",
   "metadata": {},
   "outputs": [
    {
     "ename": "NameError",
     "evalue": "name 'tran_df' is not defined",
     "output_type": "error",
     "traceback": [
      "\u001b[0;31m---------------------------------------------------------------------------\u001b[0m",
      "\u001b[0;31mNameError\u001b[0m                                 Traceback (most recent call last)",
      "\u001b[0;32m/tmp/ipykernel_10059/1373189409.py\u001b[0m in \u001b[0;36m<module>\u001b[0;34m\u001b[0m\n\u001b[1;32m      1\u001b[0m \u001b[0mlr\u001b[0m \u001b[0;34m=\u001b[0m \u001b[0mLogisticRegression\u001b[0m\u001b[0;34m(\u001b[0m\u001b[0mmaxIter\u001b[0m\u001b[0;34m=\u001b[0m\u001b[0;36m100\u001b[0m\u001b[0;34m)\u001b[0m\u001b[0;34m\u001b[0m\u001b[0;34m\u001b[0m\u001b[0m\n\u001b[0;32m----> 2\u001b[0;31m \u001b[0mlrModel\u001b[0m \u001b[0;34m=\u001b[0m \u001b[0mlr\u001b[0m\u001b[0;34m.\u001b[0m\u001b[0mfit\u001b[0m\u001b[0;34m(\u001b[0m\u001b[0mtran_df\u001b[0m\u001b[0;34m)\u001b[0m\u001b[0;34m\u001b[0m\u001b[0;34m\u001b[0m\u001b[0m\n\u001b[0m\u001b[1;32m      3\u001b[0m \u001b[0mpredictions\u001b[0m \u001b[0;34m=\u001b[0m \u001b[0mlrModel\u001b[0m\u001b[0;34m.\u001b[0m\u001b[0mtransform\u001b[0m\u001b[0;34m(\u001b[0m\u001b[0mval_df\u001b[0m\u001b[0;34m)\u001b[0m\u001b[0;34m\u001b[0m\u001b[0;34m\u001b[0m\u001b[0m\n\u001b[1;32m      4\u001b[0m \u001b[0;34m\u001b[0m\u001b[0m\n\u001b[1;32m      5\u001b[0m \u001b[0;34m\u001b[0m\u001b[0m\n",
      "\u001b[0;31mNameError\u001b[0m: name 'tran_df' is not defined"
     ]
    }
   ],
   "source": []
  },
  {
   "cell_type": "code",
   "execution_count": null,
   "id": "549fd611",
   "metadata": {},
   "outputs": [],
   "source": []
  },
  {
   "cell_type": "code",
   "execution_count": null,
   "id": "dc80e3fc",
   "metadata": {},
   "outputs": [],
   "source": []
  },
  {
   "cell_type": "code",
   "execution_count": 12,
   "id": "407f39e9",
   "metadata": {},
   "outputs": [
    {
     "ename": "NameError",
     "evalue": "name 'tran_df' is not defined",
     "output_type": "error",
     "traceback": [
      "\u001b[0;31m---------------------------------------------------------------------------\u001b[0m",
      "\u001b[0;31mNameError\u001b[0m                                 Traceback (most recent call last)",
      "\u001b[0;32m/tmp/ipykernel_10059/1954184403.py\u001b[0m in \u001b[0;36m<module>\u001b[0;34m\u001b[0m\n\u001b[0;32m----> 1\u001b[0;31m \u001b[0mquery\u001b[0m \u001b[0;34m=\u001b[0m \u001b[0mtran_df\u001b[0m\u001b[0;34m.\u001b[0m\u001b[0mwriteStream\u001b[0m\u001b[0;34m.\u001b[0m\u001b[0mformat\u001b[0m\u001b[0;34m(\u001b[0m\u001b[0;34m\"console\"\u001b[0m\u001b[0;34m)\u001b[0m\u001b[0;34m.\u001b[0m\u001b[0moption\u001b[0m\u001b[0;34m(\u001b[0m\u001b[0;34m'truncate'\u001b[0m\u001b[0;34m,\u001b[0m\u001b[0;32mFalse\u001b[0m\u001b[0;34m)\u001b[0m\u001b[0;34m.\u001b[0m\u001b[0mstart\u001b[0m\u001b[0;34m(\u001b[0m\u001b[0;34m)\u001b[0m\u001b[0;34m\u001b[0m\u001b[0;34m\u001b[0m\u001b[0m\n\u001b[0m\u001b[1;32m      2\u001b[0m \u001b[0mquery\u001b[0m\u001b[0;34m.\u001b[0m\u001b[0mawaitTermination\u001b[0m\u001b[0;34m(\u001b[0m\u001b[0;34m)\u001b[0m\u001b[0;34m\u001b[0m\u001b[0;34m\u001b[0m\u001b[0m\n",
      "\u001b[0;31mNameError\u001b[0m: name 'tran_df' is not defined"
     ]
    }
   ],
   "source": [
    "\n",
    "\n",
    "query = tran_df.writeStream.format(\"console\").option('truncate',False).start()\n",
    "query.awaitTermination()"
   ]
  },
  {
   "cell_type": "code",
   "execution_count": null,
   "id": "e1c301f7",
   "metadata": {},
   "outputs": [],
   "source": []
  },
  {
   "cell_type": "code",
   "execution_count": null,
   "id": "f59b2b25",
   "metadata": {},
   "outputs": [],
   "source": []
  },
  {
   "cell_type": "code",
   "execution_count": null,
   "id": "d7e086bb",
   "metadata": {},
   "outputs": [],
   "source": []
  }
 ],
 "metadata": {
  "kernelspec": {
   "display_name": "Python 3 (ipykernel)",
   "language": "python",
   "name": "python3"
  },
  "language_info": {
   "codemirror_mode": {
    "name": "ipython",
    "version": 3
   },
   "file_extension": ".py",
   "mimetype": "text/x-python",
   "name": "python",
   "nbconvert_exporter": "python",
   "pygments_lexer": "ipython3",
   "version": "3.8.10"
  }
 },
 "nbformat": 4,
 "nbformat_minor": 5
}
