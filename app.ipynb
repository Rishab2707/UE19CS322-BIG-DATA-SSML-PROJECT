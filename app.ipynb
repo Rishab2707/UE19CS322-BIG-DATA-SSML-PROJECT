{
 "cells": [
  {
   "cell_type": "code",
   "execution_count": 43,
   "id": "38998017",
   "metadata": {},
   "outputs": [],
   "source": [
    "import findspark\n",
    "findspark.init()\n",
    "\n",
    "from pyspark.sql import SparkSession\n",
    "from pyspark import SparkConf, SparkContext\n",
    "from pyspark.streaming import StreamingContext\n",
    "from pyspark.sql.functions import *\n",
    "from pyspark.sql.functions import split,col\n",
    "from pyspark.sql.types import Row\n",
    "from pyspark.sql.types import *\n",
    "import json\n",
    "from pyspark.sql.context import SQLContext\n",
    "from sklearn.feature_extraction.text import HashingVectorizer, TfidfVectorizer\n",
    "from sklearn.linear_model import PassiveAggressiveClassifier\n",
    "from sklearn.linear_model import Perceptron, SGDClassifier\n",
    "from sklearn.naive_bayes import MultinomialNB,BernoulliNB"
   ]
  },
  {
   "cell_type": "code",
   "execution_count": 2,
   "id": "3cec93e0",
   "metadata": {},
   "outputs": [
    {
     "name": "stderr",
     "output_type": "stream",
     "text": [
      "21/12/05 18:06:26 WARN Utils: Your hostname, pes1ug19cs384-VirtualBox resolves to a loopback address: 127.0.1.1; using 10.0.2.15 instead (on interface enp0s3)\n",
      "21/12/05 18:06:26 WARN Utils: Set SPARK_LOCAL_IP if you need to bind to another address\n",
      "21/12/05 18:06:26 WARN NativeCodeLoader: Unable to load native-hadoop library for your platform... using builtin-java classes where applicable\n",
      "Using Spark's default log4j profile: org/apache/spark/log4j-defaults.properties\n",
      "Setting default log level to \"WARN\".\n",
      "To adjust logging level use sc.setLogLevel(newLevel). For SparkR, use setLogLevel(newLevel).\n",
      "21/12/05 18:06:30 WARN TextSocketSourceProvider: The socket source should not be used for production applications! It does not support recovery.\n"
     ]
    },
    {
     "name": "stdout",
     "output_type": "stream",
     "text": [
      "root\n",
      " |-- value: string (nullable = true)\n",
      "\n",
      "root\n",
      " |-- key: string (nullable = false)\n",
      " |-- feature0: string (nullable = true)\n",
      " |-- feature1: string (nullable = true)\n",
      "\n"
     ]
    }
   ],
   "source": [
    "spark = SparkSession.builder.appName(\"Tweet analysis\").getOrCreate()\n",
    "\n",
    "text_schema = StructType([StructField('text', StringType(), True)])\n",
    "json_schema = MapType(StringType(), StringType())\n",
    "\n",
    "tweet_df= spark \\\n",
    "    .readStream \\\n",
    "    .format(\"socket\")\\\n",
    "    .option(\"host\", \"localhost\") \\\n",
    "    .option(\"port\",6100) \\\n",
    "    .load()\n",
    "tweet_df.printSchema()\n",
    "tweet_df1= tweet_df.selectExpr(\"CAST(value AS STRING)\")\n",
    "\n",
    "tweetdf2=tweet_df1.withColumn('json',from_json(col('value'),json_schema)).select(explode(col('json')))\n",
    "tweetdf3=tweetdf2.withColumn('value',from_json(col('value'),json_schema)).withColumn('feature0',col('value.feature0')).withColumn('feature1',col('value.feature1')).drop('value')\n",
    "tweetdf3.printSchema()"
   ]
  },
  {
   "cell_type": "code",
   "execution_count": 3,
   "id": "2be070a5",
   "metadata": {},
   "outputs": [],
   "source": [
    "def pre_process(tdf):\n",
    "    tdf = tdf.na.replace('', None)\n",
    "    tdf = tdf.na.drop()       \n",
    "    tdf = tdf.withColumn('feature1', regexp_replace('feature1',r'@\\w+',''))\n",
    "    tdf = tdf.withColumn('feature1', regexp_replace('feature1','[^A-Za-z0-9\\s]',''))\n",
    "    tdf = tdf.withColumn('feature1', regexp_replace('feature1',r'http\\S+',''))\n",
    "    return tdf\n",
    "\n",
    "df = pre_process(tweetdf3)"
   ]
  },
  {
   "cell_type": "code",
   "execution_count": 4,
   "id": "13a4e28c",
   "metadata": {},
   "outputs": [],
   "source": []
  },
  {
   "cell_type": "code",
   "execution_count": 51,
   "id": "cb86fb67",
   "metadata": {
    "scrolled": true
   },
   "outputs": [
    {
     "name": "stderr",
     "output_type": "stream",
     "text": [
      "21/12/05 19:56:56 WARN StreamingQueryManager: Temporary checkpoint location created which is deleted normally when the query didn't fail: /tmp/temporary-e7431e6c-988a-4693-8f02-fac94db10246. If it's required to delete it under any circumstances, please set spark.sql.streaming.forceDeleteTempCheckpointLocation to true. Important to know deleting temp checkpoint folder is best effort.\n"
     ]
    },
    {
     "data": {
      "text/plain": [
       "<bound method StreamingQuery.awaitTermination of <pyspark.sql.streaming.StreamingQuery object at 0x7fadd5d89280>>"
      ]
     },
     "execution_count": 51,
     "metadata": {},
     "output_type": "execute_result"
    },
    {
     "name": "stderr",
     "output_type": "stream",
     "text": [
      "21/12/05 19:57:01 WARN DAGScheduler: Broadcasting large task binary with size 1385.7 KiB\n",
      "21/12/05 19:57:01 WARN TaskSetManager: Stage 1052 contains a task of very large size (1360 KiB). The maximum recommended task size is 1000 KiB.\n",
      "21/12/05 19:57:01 WARN DAGScheduler: Broadcasting large task binary with size 1385.7 KiB\n",
      "21/12/05 19:57:01 WARN TaskSetManager: Stage 1053 contains a task of very large size (1360 KiB). The maximum recommended task size is 1000 KiB.\n",
      "21/12/05 19:57:06 WARN DAGScheduler: Broadcasting large task binary with size 1397.0 KiB\n",
      "21/12/05 19:57:06 WARN TaskSetManager: Stage 1054 contains a task of very large size (1372 KiB). The maximum recommended task size is 1000 KiB.\n",
      "21/12/05 19:57:06 WARN DAGScheduler: Broadcasting large task binary with size 1397.0 KiB\n",
      "21/12/05 19:57:06 WARN TaskSetManager: Stage 1055 contains a task of very large size (1372 KiB). The maximum recommended task size is 1000 KiB.\n",
      "21/12/05 19:57:11 WARN DAGScheduler: Broadcasting large task binary with size 1390.9 KiB\n",
      "21/12/05 19:57:11 WARN TaskSetManager: Stage 1056 contains a task of very large size (1366 KiB). The maximum recommended task size is 1000 KiB.\n",
      "21/12/05 19:57:11 WARN DAGScheduler: Broadcasting large task binary with size 1390.9 KiB\n",
      "21/12/05 19:57:11 WARN TaskSetManager: Stage 1057 contains a task of very large size (1366 KiB). The maximum recommended task size is 1000 KiB.\n",
      "21/12/05 19:57:16 WARN DAGScheduler: Broadcasting large task binary with size 1392.2 KiB\n",
      "21/12/05 19:57:16 WARN TaskSetManager: Stage 1058 contains a task of very large size (1367 KiB). The maximum recommended task size is 1000 KiB.\n",
      "21/12/05 19:57:16 WARN DAGScheduler: Broadcasting large task binary with size 1392.2 KiB\n",
      "21/12/05 19:57:16 WARN TaskSetManager: Stage 1059 contains a task of very large size (1367 KiB). The maximum recommended task size is 1000 KiB.\n",
      "21/12/05 19:57:21 WARN DAGScheduler: Broadcasting large task binary with size 1388.4 KiB\n",
      "21/12/05 19:57:21 WARN TaskSetManager: Stage 1060 contains a task of very large size (1363 KiB). The maximum recommended task size is 1000 KiB.\n",
      "21/12/05 19:57:21 WARN DAGScheduler: Broadcasting large task binary with size 1388.4 KiB\n",
      "21/12/05 19:57:21 WARN TaskSetManager: Stage 1061 contains a task of very large size (1363 KiB). The maximum recommended task size is 1000 KiB.\n",
      "21/12/05 19:57:26 WARN DAGScheduler: Broadcasting large task binary with size 1391.4 KiB\n",
      "21/12/05 19:57:26 WARN TaskSetManager: Stage 1062 contains a task of very large size (1366 KiB). The maximum recommended task size is 1000 KiB.\n",
      "21/12/05 19:57:27 WARN DAGScheduler: Broadcasting large task binary with size 1391.4 KiB\n",
      "21/12/05 19:57:27 WARN TaskSetManager: Stage 1063 contains a task of very large size (1366 KiB). The maximum recommended task size is 1000 KiB.\n",
      "21/12/05 19:57:31 WARN DAGScheduler: Broadcasting large task binary with size 1382.7 KiB\n",
      "21/12/05 19:57:31 WARN TaskSetManager: Stage 1064 contains a task of very large size (1357 KiB). The maximum recommended task size is 1000 KiB.\n",
      "21/12/05 19:57:32 WARN DAGScheduler: Broadcasting large task binary with size 1382.7 KiB\n",
      "21/12/05 19:57:32 WARN TaskSetManager: Stage 1065 contains a task of very large size (1357 KiB). The maximum recommended task size is 1000 KiB.\n",
      "21/12/05 19:57:37 WARN DAGScheduler: Broadcasting large task binary with size 1392.7 KiB\n",
      "21/12/05 19:57:37 WARN TaskSetManager: Stage 1066 contains a task of very large size (1367 KiB). The maximum recommended task size is 1000 KiB.\n",
      "21/12/05 19:57:37 WARN DAGScheduler: Broadcasting large task binary with size 1392.7 KiB\n",
      "21/12/05 19:57:37 WARN TaskSetManager: Stage 1067 contains a task of very large size (1367 KiB). The maximum recommended task size is 1000 KiB.\n",
      "21/12/05 19:57:42 WARN DAGScheduler: Broadcasting large task binary with size 1394.7 KiB\n",
      "21/12/05 19:57:42 WARN TaskSetManager: Stage 1068 contains a task of very large size (1369 KiB). The maximum recommended task size is 1000 KiB.\n",
      "21/12/05 19:57:42 WARN DAGScheduler: Broadcasting large task binary with size 1394.7 KiB\n",
      "21/12/05 19:57:42 WARN TaskSetManager: Stage 1069 contains a task of very large size (1369 KiB). The maximum recommended task size is 1000 KiB.\n",
      "21/12/05 19:57:47 WARN DAGScheduler: Broadcasting large task binary with size 1390.0 KiB\n",
      "21/12/05 19:57:47 WARN TaskSetManager: Stage 1070 contains a task of very large size (1365 KiB). The maximum recommended task size is 1000 KiB.\n",
      "21/12/05 19:57:47 WARN DAGScheduler: Broadcasting large task binary with size 1390.0 KiB\n",
      "21/12/05 19:57:47 WARN TaskSetManager: Stage 1071 contains a task of very large size (1365 KiB). The maximum recommended task size is 1000 KiB.\n",
      "21/12/05 19:57:52 WARN DAGScheduler: Broadcasting large task binary with size 1397.1 KiB\n",
      "21/12/05 19:57:52 WARN TaskSetManager: Stage 1072 contains a task of very large size (1372 KiB). The maximum recommended task size is 1000 KiB.\n",
      "21/12/05 19:57:52 WARN DAGScheduler: Broadcasting large task binary with size 1397.1 KiB\n",
      "21/12/05 19:57:52 WARN TaskSetManager: Stage 1073 contains a task of very large size (1372 KiB). The maximum recommended task size is 1000 KiB.\n",
      "21/12/05 19:57:57 WARN DAGScheduler: Broadcasting large task binary with size 1388.9 KiB\n",
      "21/12/05 19:57:57 WARN TaskSetManager: Stage 1074 contains a task of very large size (1364 KiB). The maximum recommended task size is 1000 KiB.\n",
      "21/12/05 19:57:58 WARN DAGScheduler: Broadcasting large task binary with size 1388.9 KiB\n",
      "21/12/05 19:57:58 WARN TaskSetManager: Stage 1075 contains a task of very large size (1364 KiB). The maximum recommended task size is 1000 KiB.\n",
      "21/12/05 19:58:02 WARN DAGScheduler: Broadcasting large task binary with size 1383.4 KiB\n",
      "21/12/05 19:58:02 WARN TaskSetManager: Stage 1076 contains a task of very large size (1358 KiB). The maximum recommended task size is 1000 KiB.\n"
     ]
    }
   ],
   "source": [
    "num=0\n",
    "model3 = SGDClassifier(loss='log')\n",
    "model4 = PassiveAggressiveClassifier(C=0.5)\n",
    "def mab(b):\n",
    "    global num\n",
    "    num+=1\n",
    "    arr = [row['feature1'] for row in b.collect()]\n",
    "    tar = [row['feature0'] for row in b.collect()]\n",
    "    vectorizer = HashingVectorizer( n_features=2**15)\n",
    "    x=None\n",
    "    if arr:\n",
    "        x = vectorizer.transform(arr)\n",
    "        if num<=126:\n",
    "            model3.partial_fit(x,tar,classes=['0','4'])\n",
    "            model4.partial_fit(x,tar,classes=['0','4'])\n",
    "        else:\n",
    "            acc3 = model3.score(x,tar)\n",
    "            acc4 = model4.score(x,tar)\n",
    "            print((acc3*100, acc4*100))\n",
    "\n",
    "def p(b,id):    \n",
    "    mab(b)\n",
    "\n",
    "query = df.writeStream.foreachBatch(p).start()\n",
    "query.awaitTermination()"
   ]
  },
  {
   "cell_type": "code",
   "execution_count": null,
   "id": "982b4039",
   "metadata": {},
   "outputs": [],
   "source": []
  },
  {
   "cell_type": "code",
   "execution_count": null,
   "id": "549fd611",
   "metadata": {},
   "outputs": [],
   "source": []
  },
  {
   "cell_type": "code",
   "execution_count": null,
   "id": "dc80e3fc",
   "metadata": {},
   "outputs": [],
   "source": []
  },
  {
   "cell_type": "code",
   "execution_count": null,
   "id": "e1c301f7",
   "metadata": {},
   "outputs": [],
   "source": []
  },
  {
   "cell_type": "code",
   "execution_count": null,
   "id": "f59b2b25",
   "metadata": {},
   "outputs": [],
   "source": []
  },
  {
   "cell_type": "code",
   "execution_count": null,
   "id": "d7e086bb",
   "metadata": {},
   "outputs": [],
   "source": []
  }
 ],
 "metadata": {
  "kernelspec": {
   "display_name": "Python 3 (ipykernel)",
   "language": "python",
   "name": "python3"
  },
  "language_info": {
   "codemirror_mode": {
    "name": "ipython",
    "version": 3
   },
   "file_extension": ".py",
   "mimetype": "text/x-python",
   "name": "python",
   "nbconvert_exporter": "python",
   "pygments_lexer": "ipython3",
   "version": "3.8.10"
  }
 },
 "nbformat": 4,
 "nbformat_minor": 5
}
